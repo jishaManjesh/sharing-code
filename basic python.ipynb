{
 "cells": [
  {
   "cell_type": "markdown",
   "metadata": {},
   "source": [
    "\n"
   ]
  },
  {
   "cell_type": "code",
   "execution_count": 1,
   "metadata": {},
   "outputs": [
    {
     "data": {
      "text/plain": [
       "True"
      ]
     },
     "execution_count": 1,
     "metadata": {},
     "output_type": "execute_result"
    }
   ],
   "source": [
    "1 is 1"
   ]
  },
  {
   "cell_type": "code",
   "execution_count": 2,
   "metadata": {},
   "outputs": [
    {
     "data": {
      "text/plain": [
       "True"
      ]
     },
     "execution_count": 2,
     "metadata": {},
     "output_type": "execute_result"
    }
   ],
   "source": [
    "1 in[1,2,3]"
   ]
  },
  {
   "cell_type": "code",
   "execution_count": 3,
   "metadata": {},
   "outputs": [
    {
     "data": {
      "text/plain": [
       "1487194256"
      ]
     },
     "execution_count": 3,
     "metadata": {},
     "output_type": "execute_result"
    }
   ],
   "source": [
    "id(1)"
   ]
  },
  {
   "cell_type": "code",
   "execution_count": 4,
   "metadata": {},
   "outputs": [
    {
     "data": {
      "text/plain": [
       "1487194256"
      ]
     },
     "execution_count": 4,
     "metadata": {},
     "output_type": "execute_result"
    }
   ],
   "source": [
    "x=1\n",
    "id(x)"
   ]
  },
  {
   "cell_type": "code",
   "execution_count": 7,
   "metadata": {},
   "outputs": [
    {
     "name": "stdout",
     "output_type": "stream",
     "text": [
      "hi\n"
     ]
    }
   ],
   "source": [
    "if True:\n",
    "    \n",
    "    print(\"hi\")"
   ]
  },
  {
   "cell_type": "code",
   "execution_count": 11,
   "metadata": {},
   "outputs": [
    {
     "name": "stdout",
     "output_type": "stream",
     "text": [
      "value of x is 100 \n"
     ]
    }
   ],
   "source": [
    "x=100\n"
   ]
  },
  {
   "cell_type": "code",
   "execution_count": 12,
   "metadata": {},
   "outputs": [
    {
     "name": "stdout",
     "output_type": "stream",
     "text": [
      "value of x is 100 \n",
      "value of y is 10 x is 100\n",
      "value of y is {1} x is 100 \n"
     ]
    }
   ],
   "source": [
    "x=100\n",
    "y=10\n",
    "print(f\"value of x is {x} \")\n",
    "print(\"value of y is {1} x is {0}\".format(x,y))\n",
    "print(\"value of y is {1} x is %s \"%(x)) "
   ]
  },
  {
   "cell_type": "code",
   "execution_count": 16,
   "metadata": {},
   "outputs": [
    {
     "ename": "SyntaxError",
     "evalue": "invalid syntax (<ipython-input-16-4697ef41360e>, line 7)",
     "output_type": "error",
     "traceback": [
      "\u001b[1;36m  File \u001b[1;32m\"<ipython-input-16-4697ef41360e>\"\u001b[1;36m, line \u001b[1;32m7\u001b[0m\n\u001b[1;33m    elif x== 120 :\u001b[0m\n\u001b[1;37m       ^\u001b[0m\n\u001b[1;31mSyntaxError\u001b[0m\u001b[1;31m:\u001b[0m invalid syntax\n"
     ]
    }
   ],
   "source": [
    "x=120\n",
    "y=10\n",
    "\n",
    "if x in [130,100]:\n",
    "    print(f\" [if] value of x is {x} \")\n",
    "    \n",
    "    elif x== 120 :\n",
    "        \n",
    "        print(\"[elif] value of y is {1} x is {0}\".format(x, y))\n",
    "        \n",
    "        elif x==110:\n",
    "            \n",
    "            print(\"[elif] value of y is {1} x is {0}\".format(x,y))\n",
    "            \n",
    "            else:\n",
    "                \n",
    "                print(\"[else] value of y is {1} x is %s \"%(x))\n",
    "            \n",
    "    \n",
    "    \n",
    "    \n",
    "    \n",
    "    \n",
    "    "
   ]
  },
  {
   "cell_type": "code",
   "execution_count": 34,
   "metadata": {},
   "outputs": [
    {
     "name": "stdout",
     "output_type": "stream",
     "text": [
      "[25, 36, 49, 64, 81, 100, 121, 144, 169, 196]\n"
     ]
    }
   ],
   "source": [
    "nu_list=tuple(range(5,15))\n",
    "nu_list\n",
    "\n",
    "some_list =[]\n",
    "for item in nu_list:\n",
    "    \n",
    "    some_list.append(item **2)\n",
    "print(some_list) \n",
    "    \n",
    "    "
   ]
  },
  {
   "cell_type": "code",
   "execution_count": 26,
   "metadata": {},
   "outputs": [
    {
     "name": "stdout",
     "output_type": "stream",
     "text": [
      "jisha\n",
      "jisha\n",
      "jisha\n"
     ]
    }
   ],
   "source": [
    "for _ in range(3):\n",
    "    \n",
    "    print(\"jisha\")"
   ]
  },
  {
   "cell_type": "code",
   "execution_count": 29,
   "metadata": {},
   "outputs": [],
   "source": [
    "nu_st = \"thisissomthing\""
   ]
  },
  {
   "cell_type": "code",
   "execution_count": 30,
   "metadata": {},
   "outputs": [
    {
     "name": "stdout",
     "output_type": "stream",
     "text": [
      " nu_st)[0] is t\n",
      " nu_st)[1] is h\n",
      " nu_st)[2] is i\n",
      " nu_st)[3] is s\n",
      " nu_st)[4] is i\n",
      " nu_st)[5] is s\n",
      " nu_st)[6] is s\n",
      " nu_st)[7] is o\n",
      " nu_st)[8] is m\n",
      " nu_st)[9] is t\n",
      " nu_st)[10] is h\n",
      " nu_st)[11] is i\n",
      " nu_st)[12] is n\n",
      " nu_st)[13] is g\n"
     ]
    }
   ],
   "source": [
    "for ind,val in enumerate(nu_st):\n",
    "    print(f\" nu_st)[{ind}] is {val}\")"
   ]
  },
  {
   "cell_type": "code",
   "execution_count": 37,
   "metadata": {},
   "outputs": [
    {
     "name": "stdout",
     "output_type": "stream",
     "text": [
      "{0: 'j', 1: 'i', 2: 's', 3: 'h', 4: 'a'}\n"
     ]
    }
   ],
   "source": [
    "dict1 = {}\n",
    "for ind , val in enumerate(\"jisha\"):\n",
    "    dict1[ind] = val\n",
    "print(dict1)"
   ]
  },
  {
   "cell_type": "code",
   "execution_count": 39,
   "metadata": {},
   "outputs": [
    {
     "name": "stdout",
     "output_type": "stream",
     "text": [
      "{'j': 0, 'i': 1, 's': 2, 'h': 3, 'a': 4}\n"
     ]
    }
   ],
   "source": [
    "dict1 = {}\n",
    "for ind , val in enumerate(\"jisha\"):\n",
    "    dict1[val] = ind\n",
    "print(dict1)"
   ]
  },
  {
   "cell_type": "code",
   "execution_count": 41,
   "metadata": {},
   "outputs": [
    {
     "name": "stdout",
     "output_type": "stream",
     "text": [
      "j __ 0\n",
      "i __ 1\n",
      "s __ 2\n",
      "h __ 3\n",
      "a __ 4\n"
     ]
    }
   ],
   "source": [
    "for key, val in dict1.items():\n",
    "    print(key ,\"__\", val)"
   ]
  },
  {
   "cell_type": "code",
   "execution_count": 43,
   "metadata": {},
   "outputs": [
    {
     "name": "stdout",
     "output_type": "stream",
     "text": [
      "0 __ j\n",
      "1 __ i\n",
      "2 __ s\n",
      "3 __ h\n",
      "4 __ a\n"
     ]
    }
   ],
   "source": [
    "for key in dict1.keys():\n",
    "    print(dict1[key],\"__\",key)"
   ]
  },
  {
   "cell_type": "code",
   "execution_count": 44,
   "metadata": {},
   "outputs": [
    {
     "name": "stdout",
     "output_type": "stream",
     "text": [
      "0\n",
      "1\n",
      "2\n",
      "3\n",
      "4\n"
     ]
    }
   ],
   "source": [
    "for val in dict1.values():\n",
    "    print(val)"
   ]
  }
 ],
 "metadata": {
  "kernelspec": {
   "display_name": "Python 3",
   "language": "python",
   "name": "python3"
  },
  "language_info": {
   "codemirror_mode": {
    "name": "ipython",
    "version": 3
   },
   "file_extension": ".py",
   "mimetype": "text/x-python",
   "name": "python",
   "nbconvert_exporter": "python",
   "pygments_lexer": "ipython3",
   "version": "3.7.3"
  }
 },
 "nbformat": 4,
 "nbformat_minor": 2
}
