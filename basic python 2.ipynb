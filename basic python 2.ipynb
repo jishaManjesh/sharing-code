{
 "cells": [
  {
   "cell_type": "code",
   "execution_count": 1,
   "metadata": {},
   "outputs": [
    {
     "data": {
      "text/plain": [
       "[0, 1, 2, 3, 4, 5, 6, 7, 8, 9]"
      ]
     },
     "execution_count": 1,
     "metadata": {},
     "output_type": "execute_result"
    }
   ],
   "source": [
    "sli = list(range(10))\n",
    "sli"
   ]
  },
  {
   "cell_type": "code",
   "execution_count": 5,
   "metadata": {},
   "outputs": [
    {
     "data": {
      "text/plain": [
       "(0, 1, 2, 3, 4, 5, 6, 7, 8, 9)"
      ]
     },
     "execution_count": 5,
     "metadata": {},
     "output_type": "execute_result"
    }
   ],
   "source": [
    "sli = tuple(range(10))\n",
    "sli"
   ]
  },
  {
   "cell_type": "code",
   "execution_count": 6,
   "metadata": {},
   "outputs": [
    {
     "data": {
      "text/plain": [
       "(0, 1, 2, 3, 4, 5, 6, 7, 8, 9)"
      ]
     },
     "execution_count": 6,
     "metadata": {},
     "output_type": "execute_result"
    }
   ],
   "source": [
    "sli[:]"
   ]
  },
  {
   "cell_type": "code",
   "execution_count": 7,
   "metadata": {},
   "outputs": [
    {
     "data": {
      "text/plain": [
       "(0, 2, 4, 6, 8)"
      ]
     },
     "execution_count": 7,
     "metadata": {},
     "output_type": "execute_result"
    }
   ],
   "source": [
    "sli[::2]"
   ]
  },
  {
   "cell_type": "code",
   "execution_count": 21,
   "metadata": {},
   "outputs": [],
   "source": [
    "uu=[]\n",
    "for x in range(10):\n",
    "    uu.append(1)\n",
    "    uu"
   ]
  },
  {
   "cell_type": "code",
   "execution_count": 14,
   "metadata": {},
   "outputs": [
    {
     "ename": "NameError",
     "evalue": "name 'attr' is not defined",
     "output_type": "error",
     "traceback": [
      "\u001b[1;31m---------------------------------------------------------------------------\u001b[0m",
      "\u001b[1;31mNameError\u001b[0m                                 Traceback (most recent call last)",
      "\u001b[1;32m<ipython-input-14-b728e95e24e7>\u001b[0m in \u001b[0;36m<module>\u001b[1;34m\u001b[0m\n\u001b[1;32m----> 1\u001b[1;33m \u001b[1;33m[\u001b[0m\u001b[0mattr\u001b[0m \u001b[1;32mfor\u001b[0m \u001b[0mafter\u001b[0m \u001b[1;32min\u001b[0m \u001b[0mdir\u001b[0m\u001b[1;33m(\u001b[0m\u001b[0mfloat\u001b[0m\u001b[1;33m)\u001b[0m \u001b[1;32mif\u001b[0m \u001b[1;34m\"__\"\u001b[0m\u001b[1;32mnot\u001b[0m \u001b[1;32min\u001b[0m \u001b[0mattr\u001b[0m \u001b[1;33m]\u001b[0m\u001b[1;33m\u001b[0m\u001b[1;33m\u001b[0m\u001b[0m\n\u001b[0m",
      "\u001b[1;32m<ipython-input-14-b728e95e24e7>\u001b[0m in \u001b[0;36m<listcomp>\u001b[1;34m(.0)\u001b[0m\n\u001b[1;32m----> 1\u001b[1;33m \u001b[1;33m[\u001b[0m\u001b[0mattr\u001b[0m \u001b[1;32mfor\u001b[0m \u001b[0mafter\u001b[0m \u001b[1;32min\u001b[0m \u001b[0mdir\u001b[0m\u001b[1;33m(\u001b[0m\u001b[0mfloat\u001b[0m\u001b[1;33m)\u001b[0m \u001b[1;32mif\u001b[0m \u001b[1;34m\"__\"\u001b[0m\u001b[1;32mnot\u001b[0m \u001b[1;32min\u001b[0m \u001b[0mattr\u001b[0m \u001b[1;33m]\u001b[0m\u001b[1;33m\u001b[0m\u001b[1;33m\u001b[0m\u001b[0m\n\u001b[0m",
      "\u001b[1;31mNameError\u001b[0m: name 'attr' is not defined"
     ]
    }
   ],
   "source": [
    "[attr for after in dir(float) if \"__\"not in attr ]"
   ]
  },
  {
   "cell_type": "code",
   "execution_count": 22,
   "metadata": {},
   "outputs": [
    {
     "data": {
      "text/plain": [
       "['__doc__',\n",
       " '__loader__',\n",
       " '__name__',\n",
       " '__package__',\n",
       " '__spec__',\n",
       " 'acos',\n",
       " 'acosh',\n",
       " 'asin',\n",
       " 'asinh',\n",
       " 'atan',\n",
       " 'atan2',\n",
       " 'atanh',\n",
       " 'ceil',\n",
       " 'copysign',\n",
       " 'cos',\n",
       " 'cosh',\n",
       " 'degrees',\n",
       " 'e',\n",
       " 'erf',\n",
       " 'erfc',\n",
       " 'exp',\n",
       " 'expm1',\n",
       " 'fabs',\n",
       " 'factorial',\n",
       " 'floor',\n",
       " 'fmod',\n",
       " 'frexp',\n",
       " 'fsum',\n",
       " 'gamma',\n",
       " 'gcd',\n",
       " 'hypot',\n",
       " 'inf',\n",
       " 'isclose',\n",
       " 'isfinite',\n",
       " 'isinf',\n",
       " 'isnan',\n",
       " 'ldexp',\n",
       " 'lgamma',\n",
       " 'log',\n",
       " 'log10',\n",
       " 'log1p',\n",
       " 'log2',\n",
       " 'modf',\n",
       " 'nan',\n",
       " 'pi',\n",
       " 'pow',\n",
       " 'radians',\n",
       " 'remainder',\n",
       " 'sin',\n",
       " 'sinh',\n",
       " 'sqrt',\n",
       " 'tan',\n",
       " 'tanh',\n",
       " 'tau',\n",
       " 'trunc']"
      ]
     },
     "execution_count": 22,
     "metadata": {},
     "output_type": "execute_result"
    }
   ],
   "source": [
    "import math\n",
    "dir(math)"
   ]
  },
  {
   "cell_type": "code",
   "execution_count": 23,
   "metadata": {},
   "outputs": [
    {
     "data": {
      "text/plain": [
       "3.141592653589793"
      ]
     },
     "execution_count": 23,
     "metadata": {},
     "output_type": "execute_result"
    }
   ],
   "source": [
    "math.pi"
   ]
  },
  {
   "cell_type": "code",
   "execution_count": 24,
   "metadata": {},
   "outputs": [
    {
     "data": {
      "text/plain": [
       "2.718281828459045"
      ]
     },
     "execution_count": 24,
     "metadata": {},
     "output_type": "execute_result"
    }
   ],
   "source": [
    "math.e  //instance"
   ]
  },
  {
   "cell_type": "code",
   "execution_count": 25,
   "metadata": {},
   "outputs": [
    {
     "data": {
      "text/plain": [
       "0.4121184852417566"
      ]
     },
     "execution_count": 25,
     "metadata": {},
     "output_type": "execute_result"
    }
   ],
   "source": [
    "math.sin(9)  // method"
   ]
  },
  {
   "cell_type": "code",
   "execution_count": 26,
   "metadata": {},
   "outputs": [
    {
     "data": {
      "text/plain": [
       "['log', 'log10', 'log1p', 'log2']"
      ]
     },
     "execution_count": 26,
     "metadata": {},
     "output_type": "execute_result"
    }
   ],
   "source": [
    "[attr for attr in dir(math) if \"log\" in attr]"
   ]
  },
  {
   "cell_type": "code",
   "execution_count": 31,
   "metadata": {},
   "outputs": [],
   "source": [
    "from math import pi as pie"
   ]
  },
  {
   "cell_type": "code",
   "execution_count": 32,
   "metadata": {},
   "outputs": [
    {
     "data": {
      "text/plain": [
       "3.141592653589793"
      ]
     },
     "execution_count": 32,
     "metadata": {},
     "output_type": "execute_result"
    }
   ],
   "source": [
    "pie"
   ]
  },
  {
   "cell_type": "code",
   "execution_count": 33,
   "metadata": {},
   "outputs": [
    {
     "data": {
      "text/plain": [
       "2.718281828459045"
      ]
     },
     "execution_count": 33,
     "metadata": {},
     "output_type": "execute_result"
    }
   ],
   "source": [
    "import math as mt     //math chnge as mt, e is a constant\n",
    "mt.e"
   ]
  },
  {
   "cell_type": "code",
   "execution_count": 34,
   "metadata": {},
   "outputs": [
    {
     "data": {
      "text/plain": [
       "['DirEntry',\n",
       " 'F_OK',\n",
       " 'MutableMapping',\n",
       " 'O_APPEND',\n",
       " 'O_BINARY',\n",
       " 'O_CREAT',\n",
       " 'O_EXCL',\n",
       " 'O_NOINHERIT',\n",
       " 'O_RANDOM',\n",
       " 'O_RDONLY',\n",
       " 'O_RDWR',\n",
       " 'O_SEQUENTIAL',\n",
       " 'O_SHORT_LIVED',\n",
       " 'O_TEMPORARY',\n",
       " 'O_TEXT',\n",
       " 'O_TRUNC',\n",
       " 'O_WRONLY',\n",
       " 'P_DETACH',\n",
       " 'P_NOWAIT',\n",
       " 'P_NOWAITO',\n",
       " 'P_OVERLAY',\n",
       " 'P_WAIT',\n",
       " 'PathLike',\n",
       " 'R_OK',\n",
       " 'SEEK_CUR',\n",
       " 'SEEK_END',\n",
       " 'SEEK_SET',\n",
       " 'TMP_MAX',\n",
       " 'W_OK',\n",
       " 'X_OK',\n",
       " '_Environ',\n",
       " '__all__',\n",
       " '__builtins__',\n",
       " '__cached__',\n",
       " '__doc__',\n",
       " '__file__',\n",
       " '__loader__',\n",
       " '__name__',\n",
       " '__package__',\n",
       " '__spec__',\n",
       " '_execvpe',\n",
       " '_exists',\n",
       " '_exit',\n",
       " '_fspath',\n",
       " '_get_exports_list',\n",
       " '_putenv',\n",
       " '_unsetenv',\n",
       " '_wrap_close',\n",
       " 'abc',\n",
       " 'abort',\n",
       " 'access',\n",
       " 'altsep',\n",
       " 'chdir',\n",
       " 'chmod',\n",
       " 'close',\n",
       " 'closerange',\n",
       " 'cpu_count',\n",
       " 'curdir',\n",
       " 'defpath',\n",
       " 'device_encoding',\n",
       " 'devnull',\n",
       " 'dup',\n",
       " 'dup2',\n",
       " 'environ',\n",
       " 'error',\n",
       " 'execl',\n",
       " 'execle',\n",
       " 'execlp',\n",
       " 'execlpe',\n",
       " 'execv',\n",
       " 'execve',\n",
       " 'execvp',\n",
       " 'execvpe',\n",
       " 'extsep',\n",
       " 'fdopen',\n",
       " 'fsdecode',\n",
       " 'fsencode',\n",
       " 'fspath',\n",
       " 'fstat',\n",
       " 'fsync',\n",
       " 'ftruncate',\n",
       " 'get_exec_path',\n",
       " 'get_handle_inheritable',\n",
       " 'get_inheritable',\n",
       " 'get_terminal_size',\n",
       " 'getcwd',\n",
       " 'getcwdb',\n",
       " 'getenv',\n",
       " 'getlogin',\n",
       " 'getpid',\n",
       " 'getppid',\n",
       " 'isatty',\n",
       " 'kill',\n",
       " 'linesep',\n",
       " 'link',\n",
       " 'listdir',\n",
       " 'lseek',\n",
       " 'lstat',\n",
       " 'makedirs',\n",
       " 'mkdir',\n",
       " 'name',\n",
       " 'open',\n",
       " 'pardir',\n",
       " 'path',\n",
       " 'pathsep',\n",
       " 'pipe',\n",
       " 'popen',\n",
       " 'putenv',\n",
       " 'read',\n",
       " 'readlink',\n",
       " 'remove',\n",
       " 'removedirs',\n",
       " 'rename',\n",
       " 'renames',\n",
       " 'replace',\n",
       " 'rmdir',\n",
       " 'scandir',\n",
       " 'sep',\n",
       " 'set_handle_inheritable',\n",
       " 'set_inheritable',\n",
       " 'spawnl',\n",
       " 'spawnle',\n",
       " 'spawnv',\n",
       " 'spawnve',\n",
       " 'st',\n",
       " 'startfile',\n",
       " 'stat',\n",
       " 'stat_result',\n",
       " 'statvfs_result',\n",
       " 'strerror',\n",
       " 'supports_bytes_environ',\n",
       " 'supports_dir_fd',\n",
       " 'supports_effective_ids',\n",
       " 'supports_fd',\n",
       " 'supports_follow_symlinks',\n",
       " 'symlink',\n",
       " 'sys',\n",
       " 'system',\n",
       " 'terminal_size',\n",
       " 'times',\n",
       " 'times_result',\n",
       " 'truncate',\n",
       " 'umask',\n",
       " 'uname_result',\n",
       " 'unlink',\n",
       " 'urandom',\n",
       " 'utime',\n",
       " 'waitpid',\n",
       " 'walk',\n",
       " 'write']"
      ]
     },
     "execution_count": 34,
     "metadata": {},
     "output_type": "execute_result"
    }
   ],
   "source": [
    "import os   //file path\n",
    "dir(os)"
   ]
  },
  {
   "cell_type": "code",
   "execution_count": 36,
   "metadata": {},
   "outputs": [
    {
     "data": {
      "text/plain": [
       "'C:\\\\Users\\\\Jisha Manjesh.DESKTOP-J86V7RQ'"
      ]
     },
     "execution_count": 36,
     "metadata": {},
     "output_type": "execute_result"
    }
   ],
   "source": [
    "os.getcwd()"
   ]
  },
  {
   "cell_type": "code",
   "execution_count": 38,
   "metadata": {},
   "outputs": [
    {
     "ename": "NameError",
     "evalue": "name 'data_path' is not defined",
     "output_type": "error",
     "traceback": [
      "\u001b[1;31m---------------------------------------------------------------------------\u001b[0m",
      "\u001b[1;31mNameError\u001b[0m                                 Traceback (most recent call last)",
      "\u001b[1;32m<ipython-input-38-fcc409af6e33>\u001b[0m in \u001b[0;36m<module>\u001b[1;34m\u001b[0m\n\u001b[1;32m----> 1\u001b[1;33m \u001b[0mdata_path\u001b[0m\u001b[1;33m\u001b[0m\u001b[1;33m\u001b[0m\u001b[0m\n\u001b[0m",
      "\u001b[1;31mNameError\u001b[0m: name 'data_path' is not defined"
     ]
    }
   ],
   "source": [
    "data_path"
   ]
  },
  {
   "cell_type": "code",
   "execution_count": 39,
   "metadata": {},
   "outputs": [
    {
     "data": {
      "text/plain": [
       "['exists', 'isabs', 'isdir', 'isfile', 'islink', 'ismount', 'lexists']"
      ]
     },
     "execution_count": 39,
     "metadata": {},
     "output_type": "execute_result"
    }
   ],
   "source": [
    "[path_attr for path_attr in dir(os.path) if \"is\" in path_attr]"
   ]
  },
  {
   "cell_type": "code",
   "execution_count": 47,
   "metadata": {},
   "outputs": [
    {
     "name": "stdout",
     "output_type": "stream",
     "text": [
      " Volume in drive C has no label.\n",
      " Volume Serial Number is 2A97-4FCC\n",
      "\n",
      " Directory of C:\\Users\\Jisha Manjesh.DESKTOP-J86V7RQ\n",
      "\n",
      "22-09-2019  11:01    <DIR>          .\n",
      "22-09-2019  11:01    <DIR>          ..\n",
      "25-08-2019  13:13    <DIR>          .anaconda\n",
      "01-09-2019  10:12    <DIR>          .conda\n",
      "25-08-2019  13:14                43 .condarc\n",
      "22-09-2019  09:28    <DIR>          .ipynb_checkpoints\n",
      "01-09-2019  14:24    <DIR>          .ipython\n",
      "03-09-2019  22:07    <DIR>          .jupyter\n",
      "12-08-2019  12:27    <DIR>          3D Objects\n",
      "01-09-2019  10:17    <DIR>          Anaconda3\n",
      "12-08-2019  12:27    <DIR>          Contacts\n",
      "25-08-2019  12:35    <DIR>          Desktop\n",
      "25-08-2019  13:38    <DIR>          Documents\n",
      "22-09-2019  10:26    <DIR>          Downloads\n",
      "12-08-2019  12:27    <DIR>          Favorites\n",
      "12-08-2019  12:27    <DIR>          Links\n",
      "12-08-2019  12:27    <DIR>          Music\n",
      "21-09-2019  09:41    <DIR>          OneDrive\n",
      "12-08-2019  12:27    <DIR>          Pictures\n",
      "22-09-2019  09:28             7,410 py.dir\n",
      "12-08-2019  12:27    <DIR>          Saved Games\n",
      "12-08-2019  12:27    <DIR>          Searches\n",
      "01-09-2019  14:32             1,610 Untitled.ipynb\n",
      "22-09-2019  09:27             7,410 Untitled1-Copy1.ipynb\n",
      "01-09-2019  16:07             7,410 Untitled1.ipynb\n",
      "03-09-2019  23:06             7,806 Untitled2.ipynb\n",
      "22-09-2019  11:01            13,079 Untitled3.ipynb\n",
      "16-08-2019  19:06    <DIR>          Videos\n",
      "               7 File(s)         44,768 bytes\n",
      "              21 Dir(s)   7,498,706,944 bytes free\n"
     ]
    }
   ],
   "source": [
    "import pathlib     ///// we use cd. for current dir\n",
    "!dir                            cd.. for previous dir     "
   ]
  },
  {
   "cell_type": "code",
   "execution_count": 49,
   "metadata": {
    "scrolled": false
   },
   "outputs": [
    {
     "data": {
      "text/plain": [
       "WindowsPath('.')"
      ]
     },
     "execution_count": 49,
     "metadata": {},
     "output_type": "execute_result"
    }
   ],
   "source": [
    "import pathlib\n",
    "data_path = pathlib.Path(\".\")\n",
    "data_path"
   ]
  },
  {
   "cell_type": "code",
   "execution_count": 50,
   "metadata": {},
   "outputs": [
    {
     "data": {
      "text/plain": [
       "[WindowsPath('.anaconda'),\n",
       " WindowsPath('.conda'),\n",
       " WindowsPath('.condarc'),\n",
       " WindowsPath('.ipynb_checkpoints'),\n",
       " WindowsPath('.ipython'),\n",
       " WindowsPath('.jupyter'),\n",
       " WindowsPath('3D Objects'),\n",
       " WindowsPath('Anaconda3'),\n",
       " WindowsPath('AppData'),\n",
       " WindowsPath('Application Data'),\n",
       " WindowsPath('Contacts'),\n",
       " WindowsPath('Cookies'),\n",
       " WindowsPath('Desktop'),\n",
       " WindowsPath('Documents'),\n",
       " WindowsPath('Downloads'),\n",
       " WindowsPath('Favorites'),\n",
       " WindowsPath('Links'),\n",
       " WindowsPath('Local Settings'),\n",
       " WindowsPath('MicrosoftEdgeBackups'),\n",
       " WindowsPath('Music'),\n",
       " WindowsPath('My Documents'),\n",
       " WindowsPath('NetHood'),\n",
       " WindowsPath('NTUSER.DAT'),\n",
       " WindowsPath('ntuser.dat.LOG1'),\n",
       " WindowsPath('ntuser.dat.LOG2'),\n",
       " WindowsPath('NTUSER.DAT{c0891e24-b889-11e8-bda3-446d574789f3}.TxR.0.regtrans-ms'),\n",
       " WindowsPath('NTUSER.DAT{c0891e24-b889-11e8-bda3-446d574789f3}.TxR.1.regtrans-ms'),\n",
       " WindowsPath('NTUSER.DAT{c0891e24-b889-11e8-bda3-446d574789f3}.TxR.2.regtrans-ms'),\n",
       " WindowsPath('NTUSER.DAT{c0891e24-b889-11e8-bda3-446d574789f3}.TxR.blf'),\n",
       " WindowsPath('NTUSER.DAT{c0891e25-b889-11e8-bda3-446d574789f3}.TM.blf'),\n",
       " WindowsPath('NTUSER.DAT{c0891e25-b889-11e8-bda3-446d574789f3}.TMContainer00000000000000000001.regtrans-ms'),\n",
       " WindowsPath('NTUSER.DAT{c0891e25-b889-11e8-bda3-446d574789f3}.TMContainer00000000000000000002.regtrans-ms'),\n",
       " WindowsPath('ntuser.ini'),\n",
       " WindowsPath('OneDrive'),\n",
       " WindowsPath('Pictures'),\n",
       " WindowsPath('PrintHood'),\n",
       " WindowsPath('py.dir'),\n",
       " WindowsPath('Recent'),\n",
       " WindowsPath('Saved Games'),\n",
       " WindowsPath('Searches'),\n",
       " WindowsPath('SendTo'),\n",
       " WindowsPath('Start Menu'),\n",
       " WindowsPath('Templates'),\n",
       " WindowsPath('Untitled.ipynb'),\n",
       " WindowsPath('Untitled1-Copy1.ipynb'),\n",
       " WindowsPath('Untitled1.ipynb'),\n",
       " WindowsPath('Untitled2.ipynb'),\n",
       " WindowsPath('Untitled3.ipynb'),\n",
       " WindowsPath('Videos')]"
      ]
     },
     "execution_count": 50,
     "metadata": {},
     "output_type": "execute_result"
    }
   ],
   "source": [
    "[file for file in data_path.iterdir()]"
   ]
  },
  {
   "cell_type": "code",
   "execution_count": 52,
   "metadata": {},
   "outputs": [
    {
     "data": {
      "text/plain": [
       "''"
      ]
     },
     "execution_count": 52,
     "metadata": {},
     "output_type": "execute_result"
    }
   ],
   "source": [
    "data_path.name"
   ]
  },
  {
   "cell_type": "code",
   "execution_count": 56,
   "metadata": {},
   "outputs": [
    {
     "name": "stdout",
     "output_type": "stream",
     "text": [
      ".anaconda\n",
      ".conda\n",
      ".condarc\n",
      ".ipynb_checkpoints\n",
      ".ipython\n",
      ".jupyter\n",
      "3D Objects\n",
      "Anaconda3\n",
      "AppData\n",
      "Application Data\n",
      "Contacts\n",
      "Cookies\n",
      "Desktop\n",
      "Documents\n",
      "Downloads\n",
      "Favorites\n",
      "Links\n",
      "Local Settings\n",
      "MicrosoftEdgeBackups\n",
      "Music\n",
      "My Documents\n",
      "NetHood\n",
      "NTUSER\n",
      "ntuser.dat\n",
      "ntuser.dat\n",
      "NTUSER.DAT{c0891e24-b889-11e8-bda3-446d574789f3}.TxR.0\n",
      "NTUSER.DAT{c0891e24-b889-11e8-bda3-446d574789f3}.TxR.1\n",
      "NTUSER.DAT{c0891e24-b889-11e8-bda3-446d574789f3}.TxR.2\n",
      "NTUSER.DAT{c0891e24-b889-11e8-bda3-446d574789f3}.TxR\n",
      "NTUSER.DAT{c0891e25-b889-11e8-bda3-446d574789f3}.TM\n",
      "NTUSER.DAT{c0891e25-b889-11e8-bda3-446d574789f3}.TMContainer00000000000000000001\n",
      "NTUSER.DAT{c0891e25-b889-11e8-bda3-446d574789f3}.TMContainer00000000000000000002\n",
      "ntuser\n",
      "OneDrive\n",
      "Pictures\n",
      "PrintHood\n",
      "py\n",
      "Recent\n",
      "Saved Games\n",
      "Searches\n",
      "SendTo\n",
      "Start Menu\n",
      "Templates\n",
      "Untitled\n",
      "Untitled1-Copy1\n",
      "Untitled1\n",
      "Untitled2\n",
      "Untitled3\n",
      "Videos\n"
     ]
    }
   ],
   "source": [
    "for file in data_path.iterdir():    \n",
    "  print(file.stem)"
   ]
  },
  {
   "cell_type": "code",
   "execution_count": 57,
   "metadata": {},
   "outputs": [
    {
     "data": {
      "text/plain": [
       "(WindowsPath('1'), False)"
      ]
     },
     "execution_count": 57,
     "metadata": {},
     "output_type": "execute_result"
    }
   ],
   "source": [
    "fld_1=data_path /\"1\"\n",
    "fld_1 ,fld_1 is dir()"
   ]
  },
  {
   "cell_type": "code",
   "execution_count": 60,
   "metadata": {},
   "outputs": [
    {
     "name": "stdout",
     "output_type": "stream",
     "text": [
      ".anaconda\n",
      ".conda\n",
      ".condarc\n",
      ".ipynb_checkpoints\n",
      ".ipython\n",
      ".jupyter\n",
      ".vscode\n",
      "3D Objects\n",
      "Anaconda3\n",
      "AppData\n",
      "Application Data\n",
      "Contacts\n",
      "Cookies\n",
      "Desktop\n",
      "Documents\n",
      "Downloads\n",
      "Favorites\n",
      "Links\n",
      "Local Settings\n",
      "MicrosoftEdgeBackups\n",
      "Music\n",
      "My Documents\n",
      "NetHood\n",
      "NTUSER\n",
      "ntuser.dat\n",
      "ntuser.dat\n",
      "NTUSER.DAT{c0891e24-b889-11e8-bda3-446d574789f3}.TxR.0\n",
      "NTUSER.DAT{c0891e24-b889-11e8-bda3-446d574789f3}.TxR.1\n",
      "NTUSER.DAT{c0891e24-b889-11e8-bda3-446d574789f3}.TxR.2\n",
      "NTUSER.DAT{c0891e24-b889-11e8-bda3-446d574789f3}.TxR\n",
      "NTUSER.DAT{c0891e25-b889-11e8-bda3-446d574789f3}.TM\n",
      "NTUSER.DAT{c0891e25-b889-11e8-bda3-446d574789f3}.TMContainer00000000000000000001\n",
      "NTUSER.DAT{c0891e25-b889-11e8-bda3-446d574789f3}.TMContainer00000000000000000002\n",
      "ntuser\n",
      "OneDrive\n",
      "Pictures\n",
      "PrintHood\n",
      "py\n",
      "Recent\n",
      "Saved Games\n",
      "Searches\n",
      "SendTo\n",
      "Start Menu\n",
      "Templates\n",
      "Untitled\n",
      "Untitled1-Copy1\n",
      "Untitled1\n",
      "Untitled2\n",
      "Untitled3\n",
      "Videos\n"
     ]
    }
   ],
   "source": [
    "for file in data_path.iterdir():\n",
    "    print(file.stem)"
   ]
  },
  {
   "cell_type": "code",
   "execution_count": 69,
   "metadata": {},
   "outputs": [],
   "source": [
    "import glob    \n",
    "for pdf in glob.glob(\"data/1*).pdf\"):\n",
    "    pdf_path = pathlib.path(pdf)\n",
    "    print(pdf_path.stem)"
   ]
  },
  {
   "cell_type": "code",
   "execution_count": 74,
   "metadata": {},
   "outputs": [
    {
     "name": "stdout",
     "output_type": "stream",
     "text": [
      "D:/D Drive\n",
      "D:/E Drive\n"
     ]
    }
   ],
   "source": [
    "for t in glob.glob(\"D:/*Drive\"):\n",
    "    print(t)"
   ]
  },
  {
   "cell_type": "code",
   "execution_count": 81,
   "metadata": {},
   "outputs": [
    {
     "name": "stdout",
     "output_type": "stream",
     "text": [
      "E:/IMS BASICS OF STATISTICS AND PROBABILITY\\Basics of statistics_1.pdf\n",
      "E:/IMS BASICS OF STATISTICS AND PROBABILITY\\Exercise for Basic stat 1.xlsx\n"
     ]
    }
   ],
   "source": [
    "for t in glob.glob(\"E:/IMS BASICS OF STATISTICS AND PROBABILITY/*\"):\n",
    "    print(t)"
   ]
  },
  {
   "cell_type": "code",
   "execution_count": 84,
   "metadata": {},
   "outputs": [
    {
     "ename": "SyntaxError",
     "evalue": "unexpected EOF while parsing (<ipython-input-84-8234f060c2cc>, line 1)",
     "output_type": "error",
     "traceback": [
      "\u001b[1;36m  File \u001b[1;32m\"<ipython-input-84-8234f060c2cc>\"\u001b[1;36m, line \u001b[1;32m1\u001b[0m\n\u001b[1;33m    for file in glob.glob(\"data/[Ss]*-0[1-9]-*\"):\u001b[0m\n\u001b[1;37m                                                 ^\u001b[0m\n\u001b[1;31mSyntaxError\u001b[0m\u001b[1;31m:\u001b[0m unexpected EOF while parsing\n"
     ]
    }
   ],
   "source": [
    "for file in glob.glob(\"data/[Ss]*-0[1-9]-*\"):"
   ]
  },
  {
   "cell_type": "code",
   "execution_count": 103,
   "metadata": {},
   "outputs": [
    {
     "data": {
      "text/plain": [
       "False"
      ]
     },
     "execution_count": 103,
     "metadata": {},
     "output_type": "execute_result"
    }
   ],
   "source": [
    "fld_1.is_dir()"
   ]
  },
  {
   "cell_type": "code",
   "execution_count": 92,
   "metadata": {},
   "outputs": [
    {
     "ename": "FileNotFoundError",
     "evalue": "[WinError 3] The system cannot find the path specified: '1'",
     "output_type": "error",
     "traceback": [
      "\u001b[1;31m---------------------------------------------------------------------------\u001b[0m",
      "\u001b[1;31mFileNotFoundError\u001b[0m                         Traceback (most recent call last)",
      "\u001b[1;32m<ipython-input-92-bec59a321c31>\u001b[0m in \u001b[0;36m<module>\u001b[1;34m\u001b[0m\n\u001b[0;32m      1\u001b[0m \u001b[0mname_dict\u001b[0m \u001b[1;33m=\u001b[0m \u001b[1;33m{\u001b[0m\u001b[1;33m}\u001b[0m\u001b[1;33m\u001b[0m\u001b[1;33m\u001b[0m\u001b[0m\n\u001b[1;32m----> 2\u001b[1;33m \u001b[1;32mfor\u001b[0m \u001b[0mfile\u001b[0m \u001b[1;32min\u001b[0m \u001b[0mfld_1\u001b[0m\u001b[1;33m.\u001b[0m\u001b[0miterdir\u001b[0m\u001b[1;33m(\u001b[0m\u001b[1;33m)\u001b[0m\u001b[1;33m:\u001b[0m\u001b[1;33m\u001b[0m\u001b[1;33m\u001b[0m\u001b[0m\n\u001b[0m\u001b[0;32m      3\u001b[0m     \u001b[0mname_dict\u001b[0m\u001b[1;33m[\u001b[0m\u001b[0mfile\u001b[0m\u001b[1;33m.\u001b[0m\u001b[0mname\u001b[0m\u001b[1;33m]\u001b[0m \u001b[1;33m=\u001b[0m \u001b[0mstr\u001b[0m\u001b[1;33m(\u001b[0m\u001b[0mfile\u001b[0m\u001b[1;33m)\u001b[0m\u001b[1;33m\u001b[0m\u001b[1;33m\u001b[0m\u001b[0m\n\u001b[0;32m      4\u001b[0m     \u001b[0mname_dict\u001b[0m\u001b[1;33m\u001b[0m\u001b[1;33m\u001b[0m\u001b[0m\n",
      "\u001b[1;32m~\\Anaconda3\\lib\\pathlib.py\u001b[0m in \u001b[0;36miterdir\u001b[1;34m(self)\u001b[0m\n\u001b[0;32m   1081\u001b[0m         \u001b[1;32mif\u001b[0m \u001b[0mself\u001b[0m\u001b[1;33m.\u001b[0m\u001b[0m_closed\u001b[0m\u001b[1;33m:\u001b[0m\u001b[1;33m\u001b[0m\u001b[1;33m\u001b[0m\u001b[0m\n\u001b[0;32m   1082\u001b[0m             \u001b[0mself\u001b[0m\u001b[1;33m.\u001b[0m\u001b[0m_raise_closed\u001b[0m\u001b[1;33m(\u001b[0m\u001b[1;33m)\u001b[0m\u001b[1;33m\u001b[0m\u001b[1;33m\u001b[0m\u001b[0m\n\u001b[1;32m-> 1083\u001b[1;33m         \u001b[1;32mfor\u001b[0m \u001b[0mname\u001b[0m \u001b[1;32min\u001b[0m \u001b[0mself\u001b[0m\u001b[1;33m.\u001b[0m\u001b[0m_accessor\u001b[0m\u001b[1;33m.\u001b[0m\u001b[0mlistdir\u001b[0m\u001b[1;33m(\u001b[0m\u001b[0mself\u001b[0m\u001b[1;33m)\u001b[0m\u001b[1;33m:\u001b[0m\u001b[1;33m\u001b[0m\u001b[1;33m\u001b[0m\u001b[0m\n\u001b[0m\u001b[0;32m   1084\u001b[0m             \u001b[1;32mif\u001b[0m \u001b[0mname\u001b[0m \u001b[1;32min\u001b[0m \u001b[1;33m{\u001b[0m\u001b[1;34m'.'\u001b[0m\u001b[1;33m,\u001b[0m \u001b[1;34m'..'\u001b[0m\u001b[1;33m}\u001b[0m\u001b[1;33m:\u001b[0m\u001b[1;33m\u001b[0m\u001b[1;33m\u001b[0m\u001b[0m\n\u001b[0;32m   1085\u001b[0m                 \u001b[1;31m# Yielding a path object for these makes little sense\u001b[0m\u001b[1;33m\u001b[0m\u001b[1;33m\u001b[0m\u001b[1;33m\u001b[0m\u001b[0m\n",
      "\u001b[1;31mFileNotFoundError\u001b[0m: [WinError 3] The system cannot find the path specified: '1'"
     ]
    }
   ],
   "source": [
    "\n",
    "name_dict = {}\n",
    "for file in fld_1.iterdir():\n",
    "    name_dict[file.name] = str(file)\n",
    "    name_dict"
   ]
  },
  {
   "cell_type": "code",
   "execution_count": 87,
   "metadata": {},
   "outputs": [
    {
     "ename": "NameError",
     "evalue": "name 'data_fld' is not defined",
     "output_type": "error",
     "traceback": [
      "\u001b[1;31m---------------------------------------------------------------------------\u001b[0m",
      "\u001b[1;31mNameError\u001b[0m                                 Traceback (most recent call last)",
      "\u001b[1;32m<ipython-input-87-5ee6016896db>\u001b[0m in \u001b[0;36m<module>\u001b[1;34m\u001b[0m\n\u001b[1;32m----> 1\u001b[1;33m \u001b[1;33m{\u001b[0m\u001b[0mfile\u001b[0m\u001b[1;33m.\u001b[0m\u001b[0mname\u001b[0m \u001b[1;33m:\u001b[0m \u001b[0mstr\u001b[0m\u001b[1;33m(\u001b[0m\u001b[0mfile\u001b[0m\u001b[1;33m)\u001b[0m \u001b[1;32mfor\u001b[0m \u001b[0mfile\u001b[0m \u001b[1;32min\u001b[0m \u001b[0mdata_fld\u001b[0m\u001b[1;33m.\u001b[0m\u001b[0miterdir\u001b[0m\u001b[1;33m(\u001b[0m\u001b[1;33m)\u001b[0m\u001b[1;33m}\u001b[0m\u001b[1;33m\u001b[0m\u001b[1;33m\u001b[0m\u001b[0m\n\u001b[0m",
      "\u001b[1;31mNameError\u001b[0m: name 'data_fld' is not defined"
     ]
    }
   ],
   "source": [
    "{file.name : str(file) for file in data_fld.iterdir()}"
   ]
  },
  {
   "cell_type": "code",
   "execution_count": 100,
   "metadata": {},
   "outputs": [
    {
     "data": {
      "text/plain": [
       "{0: '0',\n",
       " 1: '1',\n",
       " 2: '2',\n",
       " 3: '3',\n",
       " 4: '4',\n",
       " 5: '5',\n",
       " 6: '6',\n",
       " 7: '7',\n",
       " 8: '8',\n",
       " 9: '9'}"
      ]
     },
     "execution_count": 100,
     "metadata": {},
     "output_type": "execute_result"
    }
   ],
   "source": [
    "n = {}\n",
    "for x in range(10):\n",
    "    n[x] = str(x)\n",
    "n"
   ]
  },
  {
   "cell_type": "code",
   "execution_count": 101,
   "metadata": {},
   "outputs": [
    {
     "data": {
      "text/plain": [
       "{9: [0, 1, 2, 3, 4, 5, 6, 7, 8, 9]}"
      ]
     },
     "execution_count": 101,
     "metadata": {},
     "output_type": "execute_result"
    }
   ],
   "source": [
    "{x : [i for i in range(10)]}"
   ]
  },
  {
   "cell_type": "code",
   "execution_count": 123,
   "metadata": {},
   "outputs": [],
   "source": [
    "#fuctions\n"
   ]
  },
  {
   "cell_type": "code",
   "execution_count": 134,
   "metadata": {},
   "outputs": [],
   "source": [
    "import pathlib\n",
    "def normal_attr(some_object,check=\"_\", neg= True):\n",
    "    if neg:\n",
    "        return [attr for attr in dir(some_object) if check not in attr]\n",
    "    return [attr for attr in dir(some_object) if check in attr]"
   ]
  },
  {
   "cell_type": "code",
   "execution_count": 139,
   "metadata": {},
   "outputs": [
    {
     "data": {
      "text/plain": [
       "['conjugate', 'fromhex', 'hex', 'imag', 'real']"
      ]
     },
     "execution_count": 139,
     "metadata": {},
     "output_type": "execute_result"
    }
   ],
   "source": [
    "normal_attr(float,neg=True)"
   ]
  },
  {
   "cell_type": "code",
   "execution_count": 140,
   "metadata": {},
   "outputs": [
    {
     "data": {
      "text/plain": [
       "['__abs__',\n",
       " '__add__',\n",
       " '__bool__',\n",
       " '__class__',\n",
       " '__delattr__',\n",
       " '__dir__',\n",
       " '__divmod__',\n",
       " '__doc__',\n",
       " '__eq__',\n",
       " '__float__',\n",
       " '__floordiv__',\n",
       " '__format__',\n",
       " '__ge__',\n",
       " '__getattribute__',\n",
       " '__getformat__',\n",
       " '__getnewargs__',\n",
       " '__gt__',\n",
       " '__hash__',\n",
       " '__init__',\n",
       " '__init_subclass__',\n",
       " '__int__',\n",
       " '__le__',\n",
       " '__lt__',\n",
       " '__mod__',\n",
       " '__mul__',\n",
       " '__ne__',\n",
       " '__neg__',\n",
       " '__new__',\n",
       " '__pos__',\n",
       " '__pow__',\n",
       " '__radd__',\n",
       " '__rdivmod__',\n",
       " '__reduce__',\n",
       " '__reduce_ex__',\n",
       " '__repr__',\n",
       " '__rfloordiv__',\n",
       " '__rmod__',\n",
       " '__rmul__',\n",
       " '__round__',\n",
       " '__rpow__',\n",
       " '__rsub__',\n",
       " '__rtruediv__',\n",
       " '__set_format__',\n",
       " '__setattr__',\n",
       " '__sizeof__',\n",
       " '__str__',\n",
       " '__sub__',\n",
       " '__subclasshook__',\n",
       " '__truediv__',\n",
       " '__trunc__',\n",
       " 'as_integer_ratio',\n",
       " 'conjugate',\n",
       " 'imag',\n",
       " 'is_integer',\n",
       " 'real']"
      ]
     },
     "execution_count": 140,
     "metadata": {},
     "output_type": "execute_result"
    }
   ],
   "source": [
    "normal_attr(float,\"hex\")"
   ]
  },
  {
   "cell_type": "code",
   "execution_count": 142,
   "metadata": {},
   "outputs": [],
   "source": [
    "import math\n",
    "def cos_sin(x):\n",
    "    return math.cos(x)+math.sin(x)"
   ]
  },
  {
   "cell_type": "code",
   "execution_count": 143,
   "metadata": {},
   "outputs": [
    {
     "data": {
      "text/plain": [
       "1.0"
      ]
     },
     "execution_count": 143,
     "metadata": {},
     "output_type": "execute_result"
    }
   ],
   "source": [
    "cos_sin(math.pi/2)"
   ]
  },
  {
   "cell_type": "code",
   "execution_count": 144,
   "metadata": {},
   "outputs": [
    {
     "data": {
      "text/plain": [
       "1.0"
      ]
     },
     "execution_count": 144,
     "metadata": {},
     "output_type": "execute_result"
    }
   ],
   "source": [
    "cos_sin(0)"
   ]
  },
  {
   "cell_type": "code",
   "execution_count": null,
   "metadata": {},
   "outputs": [],
   "source": [
    "def prime(num):\n",
    "    if type(num) != int:\n",
    "        raise TypeError(\"input is not valid , expected int\")\n",
    "    if num < 2:\n",
    "        raise Exception(\"input not invalid\")\n",
    "    \n",
    "    for div in  range(2,num):\n",
    "        if num%div == 0:\n",
    "            return False\n",
    "    return True"
   ]
  },
  {
   "cell_type": "code",
   "execution_count": null,
   "metadata": {},
   "outputs": [],
   "source": [
    "prime(5)"
   ]
  },
  {
   "cell_type": "code",
   "execution_count": null,
   "metadata": {},
   "outputs": [],
   "source": [
    "counter = 1\n",
    "num = 3\n",
    "while True:\n",
    "    if prime(num):\n",
    "        counter = counter+1\n",
    "        if counter == 100001:\n",
    "             break\n",
    "        num=num+2\n",
    "return num\n",
    "        "
   ]
  },
  {
   "cell_type": "code",
   "execution_count": null,
   "metadata": {},
   "outputs": [],
   "source": [
    "def nth_prime(prime):\n",
    "    counter =2\n",
    "    num = 3\n",
    "    while True:\n",
    "        num += 2\n",
    "        if prime(num):\n",
    "            counter += 1\n",
    "            if counter == prime:\n",
    "                break\n",
    "    return num"
   ]
  },
  {
   "cell_type": "code",
   "execution_count": null,
   "metadata": {},
   "outputs": [],
   "source": [
    "nth_prime(101)"
   ]
  },
  {
   "cell_type": "code",
   "execution_count": null,
   "metadata": {},
   "outputs": [],
   "source": []
  },
  {
   "cell_type": "code",
   "execution_count": null,
   "metadata": {},
   "outputs": [],
   "source": []
  }
 ],
 "metadata": {
  "kernelspec": {
   "display_name": "Python 3",
   "language": "python",
   "name": "python3"
  },
  "language_info": {
   "codemirror_mode": {
    "name": "ipython",
    "version": 3
   },
   "file_extension": ".py",
   "mimetype": "text/x-python",
   "name": "python",
   "nbconvert_exporter": "python",
   "pygments_lexer": "ipython3",
   "version": "3.7.3"
  }
 },
 "nbformat": 4,
 "nbformat_minor": 2
}
